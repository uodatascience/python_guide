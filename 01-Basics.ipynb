{
 "cells": [
  {
   "cell_type": "markdown",
   "metadata": {},
   "source": [
    "# Python Basics\n",
    "\n",
    "This guide was primarily intended as a transitional guide for R users, but should be useful as a general introduction to Python. Don't be alarmed by the constant comparison of two dramatically different languages.\n",
    "\n",
    "The author (at this moment singular) uses python 2.7 for the same intertial reason that anyone would. Please do not judge them as you move off the farm and into the big city I mean learn Python 3.\n",
    "\n",
    "We will skip python installation and configuration for now, which are critically important for real Python use, but are less important for the hour or two we'll be spending with the language this time.\n",
    "\n",
    "Note that ''there is no excuse for actually reading the language documentation. Spending a few days reading the docs will very quickly pay for the months you would otherwise spend fumbling around in misery/stackexchange.'' One of the blessings of having a well-maintained language is having official docs, what are ya counting your blessings before they hatch now?\n",
    "\n",
    "* [Python Tutorial](https://docs.python.org/2/tutorial/index.html) To start\n",
    "* [Language Reference](https://docs.python.org/2/reference/index.html) To understand\n",
    "* [Standard Library](https://docs.python.org/2/library/index.html) To become powerful\n",
    "\n",
    "Two pages from the FAQ are also useful\n",
    "\n",
    "* [Programming FAQ](https://docs.python.org/2/faq/programming.html) Answers to common practical questions\n",
    "* [Design and History FAQ](https://docs.python.org/2/faq/design.html) Answers to common philosophical questions\n",
    "\n",
    "\n",
    "## What is a Python?\n",
    "\n",
    "Python is an interpreted programming language. An interpreted programming language is a \"high-level\" programming language that converts syntactically correct human-readable text into a series of tricks that are already in a language that a computer can understand. Interpreted languages contrast with compiled languages, which need to be converted (compiled) to computer language (machine code) before they can be used.\n",
    "\n",
    "A Python is a text interpreter. A text \"parser.\" To use this parser, one must know its rules.\n",
    "\n",
    "## Opinionated Syntax\n",
    "\n",
    "In Python, your comportment is important. I mean formatting is important. I mean formatting is syntax.\n",
    "\n",
    "Where other languages rely on delimiters like (), {}, etc. to determine the logical structure of a program, line breaks and tabs are also meaningful in Python. \n",
    "\n",
    "Statements like "
   ]
  },
  {
   "cell_type": "code",
   "execution_count": 135,
   "metadata": {},
   "outputs": [
    {
     "name": "stdout",
     "output_type": "stream",
     "text": [
      "Hello again\n",
      "Hello again\n",
      "Hello again\n",
      "Hello again\n",
      "Hello again\n"
     ]
    }
   ],
   "source": [
    "for i in range(5):\n",
    "    print(\"Hello again\")"
   ]
  },
  {
   "cell_type": "markdown",
   "metadata": {},
   "source": [
    "are thus functionally different than"
   ]
  },
  {
   "cell_type": "code",
   "execution_count": 136,
   "metadata": {
    "collapsed": true
   },
   "outputs": [],
   "source": [
    "#for i in range(5):\n",
    "#print(\"Hello again\")"
   ]
  },
  {
   "cell_type": "markdown",
   "metadata": {},
   "source": [
    "which would return an error, and Python would tell us so and refuse to proceed.\n",
    "\n",
    "This foray into indentation syntax is an out-of-place convulsion of information, but it is intended as an early echo of what will be a recurring theme: Python is picky about the way that things are written. \n",
    "\n",
    "This is for a good reason. Python is an opinionated language, and I have found few cases where I disagree with it. Its opinions are formally stored in [PEPs: Python Enhancement Proposals](https://www.python.org/dev/peps/). The most influential being [PEP 20](https://www.python.org/dev/peps/pep-0020/), which can be printed as often as we forget it as follows:"
   ]
  },
  {
   "cell_type": "code",
   "execution_count": 175,
   "metadata": {},
   "outputs": [
    {
     "name": "stdout",
     "output_type": "stream",
     "text": [
      "<module 'this' from '/usr/local/Cellar/python/2.7.14/Frameworks/Python.framework/Versions/2.7/lib/python2.7/this.py'>\n"
     ]
    }
   ],
   "source": [
    "import this"
   ]
  },
  {
   "cell_type": "markdown",
   "metadata": {},
   "source": [
    "## Practical Syntax\n",
    "\n",
    "Now to using this thing.\n",
    "\n",
    "We'll indulge in the typical series of list creation operations that for some reason frequently feature military slang or Monty Python (they just said the name of the movie in the movie!) quotes.\n",
    "\n",
    "### Assignation\n",
    "\n",
    "Variables are created and assigned names much like you would expect, with the '=' operator"
   ]
  },
  {
   "cell_type": "code",
   "execution_count": 138,
   "metadata": {
    "collapsed": true
   },
   "outputs": [],
   "source": [
    "cool_variable = 10 # ten is cool. comments are preceded by # btw"
   ]
  },
  {
   "cell_type": "markdown",
   "metadata": {},
   "source": [
    "though, as we'll discuss more in a moment, variable assignation/creation is better characterized as \"object instantiation\" because everything in Python is an object.\n",
    "\n",
    "### Types\n",
    "\n",
    "Like any other language, Python can be used as a calculator."
   ]
  },
  {
   "cell_type": "code",
   "execution_count": 139,
   "metadata": {},
   "outputs": [
    {
     "data": {
      "text/plain": [
       "2"
      ]
     },
     "execution_count": 139,
     "metadata": {},
     "output_type": "execute_result"
    }
   ],
   "source": [
    "1+1"
   ]
  },
  {
   "cell_type": "code",
   "execution_count": 140,
   "metadata": {},
   "outputs": [
    {
     "data": {
      "text/plain": [
       "4"
      ]
     },
     "execution_count": 140,
     "metadata": {},
     "output_type": "execute_result"
    }
   ],
   "source": [
    "2*2"
   ]
  },
  {
   "cell_type": "code",
   "execution_count": 141,
   "metadata": {},
   "outputs": [
    {
     "data": {
      "text/plain": [
       "2"
      ]
     },
     "execution_count": 141,
     "metadata": {},
     "output_type": "execute_result"
    }
   ],
   "source": [
    "5-3"
   ]
  },
  {
   "cell_type": "code",
   "execution_count": 142,
   "metadata": {},
   "outputs": [
    {
     "data": {
      "text/plain": [
       "2"
      ]
     },
     "execution_count": 142,
     "metadata": {},
     "output_type": "execute_result"
    }
   ],
   "source": [
    "8/3"
   ]
  },
  {
   "cell_type": "markdown",
   "metadata": {},
   "source": [
    "That doesn't look right if I ever been in third grade. An immediate implication of everything in Python being an object is that we should be clear about what ''type'' or ''class'' an object is. An object's type determines not only what it is, but what it knows how to do. "
   ]
  },
  {
   "cell_type": "code",
   "execution_count": 143,
   "metadata": {},
   "outputs": [
    {
     "data": {
      "text/plain": [
       "int"
      ]
     },
     "execution_count": 143,
     "metadata": {},
     "output_type": "execute_result"
    }
   ],
   "source": [
    "# What is an 8 anyway?\n",
    "type(8)"
   ]
  },
  {
   "cell_type": "markdown",
   "metadata": {},
   "source": [
    "Since `8` and `3` are `int`egers by default, Python assumes that the output should also be an integer, so it returns `2` as the nearest integer to `8/3`, rounded down. `float`s, floating point numbers, or numbers with those points as they are apparently known on my keyboard in this moment, are created by using a `.`"
   ]
  },
  {
   "cell_type": "code",
   "execution_count": 144,
   "metadata": {},
   "outputs": [
    {
     "data": {
      "text/plain": [
       "2.6666666666666665"
      ]
     },
     "execution_count": 144,
     "metadata": {},
     "output_type": "execute_result"
    }
   ],
   "source": [
    "8/3."
   ]
  },
  {
   "cell_type": "code",
   "execution_count": 145,
   "metadata": {},
   "outputs": [
    {
     "data": {
      "text/plain": [
       "2.6666666666666665"
      ]
     },
     "execution_count": 145,
     "metadata": {},
     "output_type": "execute_result"
    }
   ],
   "source": [
    "8./3 \n",
    "# also works, coersion works as in R, \n",
    "# going from least to most permissive"
   ]
  },
  {
   "cell_type": "markdown",
   "metadata": {},
   "source": [
    "Let's run through the other common [builtin types](https://docs.python.org/2/library/stdtypes.html) before our typing hands get too sweaty"
   ]
  },
  {
   "cell_type": "markdown",
   "metadata": {},
   "source": [
    "#### Numbers"
   ]
  },
  {
   "cell_type": "code",
   "execution_count": 146,
   "metadata": {},
   "outputs": [
    {
     "data": {
      "text/plain": [
       "int"
      ]
     },
     "execution_count": 146,
     "metadata": {},
     "output_type": "execute_result"
    }
   ],
   "source": [
    "type(8) # Plain integers - only 32 bits of precision"
   ]
  },
  {
   "cell_type": "code",
   "execution_count": 147,
   "metadata": {},
   "outputs": [
    {
     "data": {
      "text/plain": [
       "9223372036854775807"
      ]
     },
     "execution_count": 147,
     "metadata": {},
     "output_type": "execute_result"
    }
   ],
   "source": [
    "# We can see the maximum integer like so...\n",
    "# (more in imports down below)\n",
    "import sys\n",
    "sys.maxint"
   ]
  },
  {
   "cell_type": "code",
   "execution_count": 148,
   "metadata": {},
   "outputs": [
    {
     "data": {
      "text/plain": [
       "int"
      ]
     },
     "execution_count": 148,
     "metadata": {},
     "output_type": "execute_result"
    }
   ],
   "source": [
    "type(sys.maxint)"
   ]
  },
  {
   "cell_type": "code",
   "execution_count": 149,
   "metadata": {},
   "outputs": [
    {
     "data": {
      "text/plain": [
       "long"
      ]
     },
     "execution_count": 149,
     "metadata": {},
     "output_type": "execute_result"
    }
   ],
   "source": [
    "# and if we go one over we get....\n",
    "type(sys.maxint+1)"
   ]
  },
  {
   "cell_type": "code",
   "execution_count": 150,
   "metadata": {},
   "outputs": [
    {
     "data": {
      "text/plain": [
       "100L"
      ]
     },
     "execution_count": 150,
     "metadata": {},
     "output_type": "execute_result"
    }
   ],
   "source": [
    "long(100) # Long integers that can be any value"
   ]
  },
  {
   "cell_type": "code",
   "execution_count": 151,
   "metadata": {},
   "outputs": [
    {
     "data": {
      "text/plain": [
       "float"
      ]
     },
     "execution_count": 151,
     "metadata": {},
     "output_type": "execute_result"
    }
   ],
   "source": [
    "type(100.) # Floating point numbers "
   ]
  },
  {
   "cell_type": "code",
   "execution_count": 152,
   "metadata": {},
   "outputs": [
    {
     "data": {
      "text/plain": [
       "(10+1j)"
      ]
     },
     "execution_count": 152,
     "metadata": {},
     "output_type": "execute_result"
    }
   ],
   "source": [
    "# and complex numbers\n",
    "complex(10, 1)"
   ]
  },
  {
   "cell_type": "code",
   "execution_count": 153,
   "metadata": {},
   "outputs": [
    {
     "data": {
      "text/plain": [
       "1.0"
      ]
     },
     "execution_count": 153,
     "metadata": {},
     "output_type": "execute_result"
    }
   ],
   "source": [
    "# with real and imaginary parts\n",
    "a_complex_number = complex(10, 1)\n",
    "a_complex_number.imag # more on this syntax later too..."
   ]
  },
  {
   "cell_type": "markdown",
   "metadata": {},
   "source": [
    "Because I was a tease before, let's round out the arithmetic operators"
   ]
  },
  {
   "cell_type": "code",
   "execution_count": 154,
   "metadata": {},
   "outputs": [
    {
     "data": {
      "text/plain": [
       "1"
      ]
     },
     "execution_count": 154,
     "metadata": {},
     "output_type": "execute_result"
    }
   ],
   "source": [
    "13 % 6 # Modular arithmetic"
   ]
  },
  {
   "cell_type": "code",
   "execution_count": 155,
   "metadata": {},
   "outputs": [
    {
     "data": {
      "text/plain": [
       "256"
      ]
     },
     "execution_count": 155,
     "metadata": {},
     "output_type": "execute_result"
    }
   ],
   "source": [
    "2 ** 8 # exponents"
   ]
  },
  {
   "cell_type": "markdown",
   "metadata": {},
   "source": [
    "### Sequences\n",
    "\n",
    "Two common types share perhaps an unexpected common soul, `str`ings and `list`s. We can think of `str`ings as character sequences."
   ]
  },
  {
   "cell_type": "code",
   "execution_count": 156,
   "metadata": {},
   "outputs": [
    {
     "data": {
      "text/plain": [
       "str"
      ]
     },
     "execution_count": 156,
     "metadata": {},
     "output_type": "execute_result"
    }
   ],
   "source": [
    "type(\"cool string\")"
   ]
  },
  {
   "cell_type": "code",
   "execution_count": 157,
   "metadata": {},
   "outputs": [
    {
     "data": {
      "text/plain": [
       "'triple quoted strings\\ncan span multiple lines\\nand generally allow you\\nto be too verbose'"
      ]
     },
     "execution_count": 157,
     "metadata": {},
     "output_type": "execute_result"
    }
   ],
   "source": [
    "'''triple quoted strings\n",
    "can span multiple lines\n",
    "and generally allow you\n",
    "to be too verbose'''"
   ]
  },
  {
   "cell_type": "code",
   "execution_count": 158,
   "metadata": {},
   "outputs": [
    {
     "data": {
      "text/plain": [
       "list"
      ]
     },
     "execution_count": 158,
     "metadata": {},
     "output_type": "execute_result"
    }
   ],
   "source": [
    "type([\"a\", 'list', \"of\", \"cool\", \"words\"])\n",
    "# note that \"\" and '' are interchangeable"
   ]
  },
  {
   "cell_type": "markdown",
   "metadata": {},
   "source": [
    "Strings are, by default, \"byte\" strings in Python 2. I hear that Python 3 does it better by not having them at all. A long and tedious story short, characters need to have some means of ''encoding'' as 0/1 bits. The most versatile/common/universal means of encoding nowadays is ''unicode'', but back in the day of slow computers it was ''ASCII'', which represents characters with 8 bits, and so only has 2^8=256 characters. \n",
    "\n",
    "We do unicode in Python 2 with "
   ]
  },
  {
   "cell_type": "code",
   "execution_count": 159,
   "metadata": {},
   "outputs": [
    {
     "data": {
      "text/plain": [
       "unicode"
      ]
     },
     "execution_count": 159,
     "metadata": {},
     "output_type": "execute_result"
    }
   ],
   "source": [
    "type(u'a cool unicode string')"
   ]
  },
  {
   "cell_type": "markdown",
   "metadata": {},
   "source": [
    "String handling is one of the early and immediate standout features of Python, where you can do stuff like"
   ]
  },
  {
   "cell_type": "code",
   "execution_count": 160,
   "metadata": {},
   "outputs": [
    {
     "data": {
      "text/plain": [
       "'get together u stringy ones'"
      ]
     },
     "execution_count": 160,
     "metadata": {},
     "output_type": "execute_result"
    }
   ],
   "source": [
    "'get together ' + 'u stringy ones'"
   ]
  },
  {
   "cell_type": "code",
   "execution_count": 161,
   "metadata": {},
   "outputs": [
    {
     "data": {
      "text/plain": [
       "'probs stole this string from the internet'"
      ]
     },
     "execution_count": 161,
     "metadata": {},
     "output_type": "execute_result"
    }
   ],
   "source": [
    "\"  probs stole this string from the internet   \".strip()"
   ]
  },
  {
   "cell_type": "code",
   "execution_count": 162,
   "metadata": {},
   "outputs": [
    {
     "data": {
      "text/plain": [
       "'Oh cmon alecia of course today is 10'"
      ]
     },
     "execution_count": 162,
     "metadata": {},
     "output_type": "execute_result"
    }
   ],
   "source": [
    "dont_forget_her_name = \"Alecia\"\n",
    "or_her_birthday = 10\n",
    "uh_oh = \"oh cmon {} of course today is {}\".format(dont_forget_her_name, or_her_birthday)\n",
    "uh_oh.capitalize()"
   ]
  },
  {
   "cell_type": "markdown",
   "metadata": {},
   "source": [
    "Lists are such a common type you'll probably forget they are a type instead of just being a brackety stack of all the junk you want, but some quick hits:\n",
    "\n",
    "Python uses 0 indexing, where 0 is the first item in a sequence. This may take some getting used to, but has some helpful properties and avoids the ambiguity of other indexing regimes. The final number in a number:number slice is uninclusive - for 0:3 we get the numbers from the first entry ''up to but not including'' the fourth entry (aka the third entry)."
   ]
  },
  {
   "cell_type": "code",
   "execution_count": 163,
   "metadata": {},
   "outputs": [
    {
     "data": {
      "text/plain": [
       "1"
      ]
     },
     "execution_count": 163,
     "metadata": {},
     "output_type": "execute_result"
    }
   ],
   "source": [
    "gotta_count = [0,1,2,3,4,5]\n",
    "gotta_count[1]"
   ]
  },
  {
   "cell_type": "code",
   "execution_count": 164,
   "metadata": {},
   "outputs": [
    {
     "data": {
      "text/plain": [
       "[0, 1, 2]"
      ]
     },
     "execution_count": 164,
     "metadata": {},
     "output_type": "execute_result"
    }
   ],
   "source": [
    "gotta_count[0:3] # we get three numbers this way"
   ]
  },
  {
   "cell_type": "code",
   "execution_count": 166,
   "metadata": {},
   "outputs": [
    {
     "name": "stdout",
     "output_type": "stream",
     "text": [
      "['money', 'medicine', 'to eat']\n"
     ]
    }
   ],
   "source": [
    "things_to_remember = ['money', 'medicine']\n",
    "things_to_remember.append('to eat')\n",
    "print(things_to_remember)"
   ]
  },
  {
   "cell_type": "markdown",
   "metadata": {},
   "source": [
    "List comprehensions are useful for all your casual iteration needs, [see more about the syntax here](https://docs.python.org/2/tutorial/datastructures.html#list-comprehensions)"
   ]
  },
  {
   "cell_type": "code",
   "execution_count": 167,
   "metadata": {},
   "outputs": [
    {
     "name": "stdout",
     "output_type": "stream",
     "text": [
      "a range is [0, 1, 2, 3, 4, 5, 6, 7, 8, 9]\n",
      "and the odd numbers in it are [1, 3, 5, 7, 9]\n"
     ]
    }
   ],
   "source": [
    "a_range = range(10)\n",
    "print(\"a range is {}\".format(a_range))\n",
    "\n",
    "odds = [number for number in a_range if number % 2 == 1]\n",
    "print(\"and the odd numbers in it are {}\".format(odds))\n"
   ]
  },
  {
   "cell_type": "markdown",
   "metadata": {},
   "source": [
    "stuff one should also know about but we won't cover here\n",
    "* [tuples](https://docs.python.org/2/library/functions.html#tuple)\n",
    "* [sets](https://docs.python.org/2/library/stdtypes.html#set)"
   ]
  },
  {
   "cell_type": "markdown",
   "metadata": {},
   "source": [
    "### Dictionaries\n",
    "\n",
    "The rough equivalent of R's lists are dictionaries. Dictionaries are mappings from some key to some value. Rather than the implicit positional mapping from an object's position in a list to its values, dictionaries allow (almost) anything to be mapped to (almost) anything."
   ]
  },
  {
   "cell_type": "code",
   "execution_count": 168,
   "metadata": {},
   "outputs": [
    {
     "name": "stdout",
     "output_type": "stream",
     "text": [
      "{25: 'almost counted there once',\n",
      " 'bigfoot': 'whoa that dude really got my heart pumpin',\n",
      " 'macroeconomics': 'makes ya sound drunk when ya say it even if ya arent!'}\n"
     ]
    }
   ],
   "source": [
    "dictionary_to_read = { # dictionaries are declared w/ brackets\n",
    "    # each item has a key and a value, declared with a colon\n",
    "    'bigfoot': 'whoa that dude really got my heart pumpin',\n",
    "    # entries are comma separated\n",
    "    25: 'almost counted there once',\n",
    "    'macroeconomics': 'makes ya sound drunk when ya say it even if ya arent!'\n",
    "}\n",
    "from pprint import pprint # prettyprint, just using it so there's \\n between items\n",
    "pprint(dictionary_to_read)"
   ]
  },
  {
   "cell_type": "markdown",
   "metadata": {},
   "source": [
    "Indexing dictionaries is as we expect"
   ]
  },
  {
   "cell_type": "code",
   "execution_count": 169,
   "metadata": {},
   "outputs": [
    {
     "data": {
      "text/plain": [
       "'whoa that dude really got my heart pumpin'"
      ]
     },
     "execution_count": 169,
     "metadata": {},
     "output_type": "execute_result"
    }
   ],
   "source": [
    "dictionary_to_read['bigfoot']"
   ]
  },
  {
   "cell_type": "markdown",
   "metadata": {},
   "source": [
    "But watch out, because keys are no longer positional (always remember! Dictionaries '''have no order''' even if you think you're making stuff with an order. You're looking for [odicts](https://docs.python.org/2/library/collections.html#collections.OrderedDict)"
   ]
  },
  {
   "cell_type": "code",
   "execution_count": 170,
   "metadata": {},
   "outputs": [
    {
     "data": {
      "text/plain": [
       "'almost counted there once'"
      ]
     },
     "execution_count": 170,
     "metadata": {},
     "output_type": "execute_result"
    }
   ],
   "source": [
    "dictionary_to_read[25]"
   ]
  },
  {
   "cell_type": "markdown",
   "metadata": {},
   "source": [
    "We can access different parts of the dictionary..."
   ]
  },
  {
   "cell_type": "code",
   "execution_count": 171,
   "metadata": {},
   "outputs": [
    {
     "name": "stdout",
     "output_type": "stream",
     "text": [
      "['macroeconomics', 25, 'bigfoot']\n",
      "['makes ya sound drunk when ya say it even if ya arent!', 'almost counted there once', 'whoa that dude really got my heart pumpin']\n",
      "[('macroeconomics', 'makes ya sound drunk when ya say it even if ya arent!'), (25, 'almost counted there once'), ('bigfoot', 'whoa that dude really got my heart pumpin')]\n"
     ]
    }
   ],
   "source": [
    "print(dictionary_to_read.keys())\n",
    "print(dictionary_to_read.values())\n",
    "print(dictionary_to_read.items()) # see looket that list of tuples"
   ]
  },
  {
   "cell_type": "markdown",
   "metadata": {},
   "source": [
    "one more important method..."
   ]
  },
  {
   "cell_type": "code",
   "execution_count": 172,
   "metadata": {},
   "outputs": [
    {
     "name": "stdout",
     "output_type": "stream",
     "text": [
      "{25: 'almost counted there once',\n",
      " 'agronomics': \"that's the word i meant earlier\",\n",
      " 'bigfoot': 'whoa that dude really got my heart pumpin',\n",
      " 'macroeconomics': 'makes ya sound drunk when ya say it even if ya arent!',\n",
      " 'meddlesome': 'you keep taking the things out of my desk'}\n"
     ]
    }
   ],
   "source": [
    "learned_new_words = {\n",
    "    \"agronomics\": \"that's the word i meant earlier\",\n",
    "    \"meddlesome\": \"you keep taking the things out of my desk\"\n",
    "}\n",
    "\n",
    "dictionary_to_read.update(learned_new_words)\n",
    "pprint(dictionary_to_read)"
   ]
  },
  {
   "cell_type": "markdown",
   "metadata": {},
   "source": [
    "### Logic & Comparison\n",
    "\n",
    "What is a programming language without logic?\n",
    "\n",
    "The basic booleans"
   ]
  },
  {
   "cell_type": "code",
   "execution_count": 1,
   "metadata": {},
   "outputs": [
    {
     "data": {
      "text/plain": [
       "bool"
      ]
     },
     "execution_count": 1,
     "metadata": {},
     "output_type": "execute_result"
    }
   ],
   "source": [
    "type(True)\n",
    "type(False)"
   ]
  },
  {
   "cell_type": "markdown",
   "metadata": {},
   "source": [
    "All logical statements yield a boolean or sequence of booleans.\n",
    "\n",
    "Comparison syntax is also as we expect"
   ]
  },
  {
   "cell_type": "code",
   "execution_count": 6,
   "metadata": {},
   "outputs": [
    {
     "data": {
      "text/plain": [
       "True"
      ]
     },
     "execution_count": 6,
     "metadata": {},
     "output_type": "execute_result"
    }
   ],
   "source": [
    "1 < 2  # less than\n",
    "1 > 2  # greater than\n",
    "2 >= 3 # greater than or equal to\n",
    "2 <= 3 # less than or equal to\n",
    "'this' == 'that' # equal to\n",
    "'this' != 'that' # not equal to"
   ]
  },
  {
   "cell_type": "markdown",
   "metadata": {},
   "source": [
    "Logical operators are words rather than symbols - the symbols are 'bitwise' operators, which we won't cover."
   ]
  },
  {
   "cell_type": "code",
   "execution_count": 5,
   "metadata": {},
   "outputs": [
    {
     "data": {
      "text/plain": [
       "True"
      ]
     },
     "execution_count": 5,
     "metadata": {},
     "output_type": "execute_result"
    }
   ],
   "source": [
    "1 < 2 and     2 <= 3 # boolean AND\n",
    "1 > 2 or      2 <= 3  # boolean OR\n",
    "1 < 2 and not 2 >= 3 # boolean NOT"
   ]
  },
  {
   "cell_type": "markdown",
   "metadata": {},
   "source": [
    "Comparison and logical syntax can be chained"
   ]
  },
  {
   "cell_type": "code",
   "execution_count": 2,
   "metadata": {},
   "outputs": [
    {
     "data": {
      "text/plain": [
       "True"
      ]
     },
     "execution_count": 2,
     "metadata": {},
     "output_type": "execute_result"
    }
   ],
   "source": [
    "1 < 2 <= 3\n",
    "# is equivalent to\n",
    "1 < 2 and 2 <= 3"
   ]
  },
  {
   "cell_type": "markdown",
   "metadata": {},
   "source": [
    "The 'is' operator is slightly special, it tests whether its arguments are the same object, not the same value. So even though all the variables below are ones, the one that is a `float` is not the same as the `int`egers."
   ]
  },
  {
   "cell_type": "code",
   "execution_count": 9,
   "metadata": {},
   "outputs": [
    {
     "name": "stdout",
     "output_type": "stream",
     "text": [
      "True\n",
      "True\n",
      "True\n",
      "False\n"
     ]
    }
   ],
   "source": [
    "one_one       = 1\n",
    "another_one   = 1\n",
    "different_one = 1.\n",
    "\n",
    "print(one_one == another_one)\n",
    "print(one_one is another_one)\n",
    "print(one_one == different_one)\n",
    "print(one_one is different_one)"
   ]
  },
  {
   "cell_type": "markdown",
   "metadata": {},
   "source": [
    "Tests of membership are also straightforward"
   ]
  },
  {
   "cell_type": "code",
   "execution_count": 13,
   "metadata": {},
   "outputs": [
    {
     "name": "stdout",
     "output_type": "stream",
     "text": [
      "True\n",
      "True\n"
     ]
    }
   ],
   "source": [
    "my_bank_account = ['empty space', 'identity thieves', 'self worth']\n",
    "print('self worth' in my_bank_account)\n",
    "print('money'  not in my_bank_account)"
   ]
  },
  {
   "cell_type": "markdown",
   "metadata": {},
   "source": [
    "All objects have logical values, typically being false when they are empty. \n",
    "The truth value of non-empty objects is a little tricky - since they are not \"equal to\" `True` they will fail a boolean test, but they will be true when used in an `if` or `while` condition"
   ]
  },
  {
   "cell_type": "code",
   "execution_count": 21,
   "metadata": {},
   "outputs": [
    {
     "name": "stdout",
     "output_type": "stream",
     "text": [
      "False\n",
      "False\n",
      "False\n",
      "why'd you put that in a list anyway?\n"
     ]
    }
   ],
   "source": [
    "pocket_lint   = []\n",
    "lonely_number = 0\n",
    "list_of_one = ['one']\n",
    "\n",
    "print(pocket_lint == True)\n",
    "print(lonely_number == True)\n",
    "print(list_of_one == True)\n",
    "\n",
    "if pocket_lint:\n",
    "    print(\"there was something in there after all!\")\n",
    "    \n",
    "if list_of_one:\n",
    "    print(\"why'd you put that in a list anyway?\")\n"
   ]
  },
  {
   "cell_type": "markdown",
   "metadata": {},
   "source": [
    "## Objects\n",
    "\n",
    "Everything in Python is an object. \n",
    "\n",
    "Every object has an '''identity, a type, and a value'''. An object's '''identity''' is not the name given to it on assignment, but its literal identity to the computer -- roughly its memory address. An object's '''type''' determines, as we have seen above, the operations or `methods` available to it: Python knows how to add numbers because addition is defined for objects that are number types. An object's '''value''' is a more nebulous concept, but we can think of it as the data that the object contains ([in some places in the documentation](https://docs.python.org/2/reference/expressions.html#value-comparisons) value is implicitly defined as the thing that is used in comparison operations). \n",
    "\n",
    "Objects have '''attributes''' and '''methods.''' Attributes function mostly like [an object's dictionary](https://docs.python.org/2.7/reference/datamodel.html#the-standard-type-hierarchy), and are the object's (relatively) static properties. Methods are functions that are particular to a class (unbound) or particular to an instance (bound) ([for more clarification about an instance vs. a class](https://www.codecademy.com/en/forum_questions/558cd3fc76b8fe06280002ce) and [what it means to be bound vs unbound method](http://stupidpythonideas.blogspot.com/2013/06/how-methods-work.html)). Both are accessed using `.` notation, the difference being that methods are '''called''' using the `()` operator. Perhaps confusingly, anything using the `.` notation is considered an attribute -- one can think of an object having a method as one of its attributes in that having that method is something that describes the object, or something the object knows about, but methods have the special ability of running additional code when called with `()`."
   ]
  },
  {
   "cell_type": "code",
   "execution_count": 23,
   "metadata": {},
   "outputs": [
    {
     "data": {
      "text/plain": [
       "['__add__',\n",
       " '__class__',\n",
       " '__contains__',\n",
       " '__delattr__',\n",
       " '__delitem__',\n",
       " '__delslice__',\n",
       " '__doc__',\n",
       " '__eq__',\n",
       " '__format__',\n",
       " '__ge__',\n",
       " '__getattribute__',\n",
       " '__getitem__',\n",
       " '__getslice__',\n",
       " '__gt__',\n",
       " '__hash__',\n",
       " '__iadd__',\n",
       " '__imul__',\n",
       " '__init__',\n",
       " '__iter__',\n",
       " '__le__',\n",
       " '__len__',\n",
       " '__lt__',\n",
       " '__mul__',\n",
       " '__ne__',\n",
       " '__new__',\n",
       " '__reduce__',\n",
       " '__reduce_ex__',\n",
       " '__repr__',\n",
       " '__reversed__',\n",
       " '__rmul__',\n",
       " '__setattr__',\n",
       " '__setitem__',\n",
       " '__setslice__',\n",
       " '__sizeof__',\n",
       " '__str__',\n",
       " '__subclasshook__',\n",
       " 'append',\n",
       " 'count',\n",
       " 'extend',\n",
       " 'index',\n",
       " 'insert',\n",
       " 'pop',\n",
       " 'remove',\n",
       " 'reverse',\n",
       " 'sort']"
      ]
     },
     "execution_count": 23,
     "metadata": {},
     "output_type": "execute_result"
    }
   ],
   "source": [
    "some_list = [1,2,3,4]\n",
    "\n",
    "# we can list the attributes of an object with dir\n",
    "dir(some_list)"
   ]
  },
  {
   "cell_type": "code",
   "execution_count": 29,
   "metadata": {},
   "outputs": [
    {
     "name": "stdout",
     "output_type": "stream",
     "text": [
      "Help on list object:\n",
      "\n",
      "class list(object)\n",
      " |  list() -> new empty list\n",
      " |  list(iterable) -> new list initialized from iterable's items\n",
      " |  \n",
      " |  Methods defined here:\n",
      " |  \n",
      " |  __add__(...)\n",
      " |      x.__add__(y) <==> x+y\n",
      " |  \n",
      " |  __contains__(...)\n",
      " |      x.__contains__(y) <==> y in x\n",
      " |  \n",
      " |  __delitem__(...)\n",
      " |      x.__delitem__(y) <==> del x[y]\n",
      " |  \n",
      " |  __delslice__(...)\n",
      " |      x.__delslice__(i, j) <==> del x[i:j]\n",
      " |      \n",
      " |      Use of negative indices is not supported.\n",
      " |  \n",
      " |  __eq__(...)\n",
      " |      x.__eq__(y) <==> x==y\n",
      " |  \n",
      " |  __ge__(...)\n",
      " |      x.__ge__(y) <==> x>=y\n",
      " |  \n",
      " |  __getattribute__(...)\n",
      " |      x.__getattribute__('name') <==> x.name\n",
      " |  \n",
      " |  __getitem__(...)\n",
      " |      x.__getitem__(y) <==> x[y]\n",
      " |  \n",
      " |  __getslice__(...)\n",
      " |      x.__getslice__(i, j) <==> x[i:j]\n",
      " |      \n",
      " |      Use of negative indices is not supported.\n",
      " |  \n",
      " |  __gt__(...)\n",
      " |      x.__gt__(y) <==> x>y\n",
      " |  \n",
      " |  __iadd__(...)\n",
      " |      x.__iadd__(y) <==> x+=y\n",
      " |  \n",
      " |  __imul__(...)\n",
      " |      x.__imul__(y) <==> x*=y\n",
      " |  \n",
      " |  __init__(...)\n",
      " |      x.__init__(...) initializes x; see help(type(x)) for signature\n",
      " |  \n",
      " |  __iter__(...)\n",
      " |      x.__iter__() <==> iter(x)\n",
      " |  \n",
      " |  __le__(...)\n",
      " |      x.__le__(y) <==> x<=y\n",
      " |  \n",
      " |  __len__(...)\n",
      " |      x.__len__() <==> len(x)\n",
      " |  \n",
      " |  __lt__(...)\n",
      " |      x.__lt__(y) <==> x<y\n",
      " |  \n",
      " |  __mul__(...)\n",
      " |      x.__mul__(n) <==> x*n\n",
      " |  \n",
      " |  __ne__(...)\n",
      " |      x.__ne__(y) <==> x!=y\n",
      " |  \n",
      " |  __repr__(...)\n",
      " |      x.__repr__() <==> repr(x)\n",
      " |  \n",
      " |  __reversed__(...)\n",
      " |      L.__reversed__() -- return a reverse iterator over the list\n",
      " |  \n",
      " |  __rmul__(...)\n",
      " |      x.__rmul__(n) <==> n*x\n",
      " |  \n",
      " |  __setitem__(...)\n",
      " |      x.__setitem__(i, y) <==> x[i]=y\n",
      " |  \n",
      " |  __setslice__(...)\n",
      " |      x.__setslice__(i, j, y) <==> x[i:j]=y\n",
      " |      \n",
      " |      Use  of negative indices is not supported.\n",
      " |  \n",
      " |  __sizeof__(...)\n",
      " |      L.__sizeof__() -- size of L in memory, in bytes\n",
      " |  \n",
      " |  append(...)\n",
      " |      L.append(object) -- append object to end\n",
      " |  \n",
      " |  count(...)\n",
      " |      L.count(value) -> integer -- return number of occurrences of value\n",
      " |  \n",
      " |  extend(...)\n",
      " |      L.extend(iterable) -- extend list by appending elements from the iterable\n",
      " |  \n",
      " |  index(...)\n",
      " |      L.index(value, [start, [stop]]) -> integer -- return first index of value.\n",
      " |      Raises ValueError if the value is not present.\n",
      " |  \n",
      " |  insert(...)\n",
      " |      L.insert(index, object) -- insert object before index\n",
      " |  \n",
      " |  pop(...)\n",
      " |      L.pop([index]) -> item -- remove and return item at index (default last).\n",
      " |      Raises IndexError if list is empty or index is out of range.\n",
      " |  \n",
      " |  remove(...)\n",
      " |      L.remove(value) -- remove first occurrence of value.\n",
      " |      Raises ValueError if the value is not present.\n",
      " |  \n",
      " |  reverse(...)\n",
      " |      L.reverse() -- reverse *IN PLACE*\n",
      " |  \n",
      " |  sort(...)\n",
      " |      L.sort(cmp=None, key=None, reverse=False) -- stable sort *IN PLACE*;\n",
      " |      cmp(x, y) -> -1, 0, 1\n",
      " |  \n",
      " |  ----------------------------------------------------------------------\n",
      " |  Data and other attributes defined here:\n",
      " |  \n",
      " |  __hash__ = None\n",
      " |  \n",
      " |  __new__ = <built-in method __new__ of type object>\n",
      " |      T.__new__(S, ...) -> a new object with type S, a subtype of T\n",
      "\n"
     ]
    }
   ],
   "source": [
    "# or by calling the help function\n",
    "help(some_list)"
   ]
  },
  {
   "cell_type": "markdown",
   "metadata": {},
   "source": [
    "The `__(attribute)__` syntax means that it is a \"special\" attribute, ignore that for now, [but if you're curious see here](https://www.python.org/dev/peps/pep-0008/#descriptive-naming-styles) [or here](https://shahriar.svbtle.com/underscores-in-python).\n",
    "\n",
    "The base classes don't have very exciting attributes, but..."
   ]
  },
  {
   "cell_type": "code",
   "execution_count": 35,
   "metadata": {},
   "outputs": [
    {
     "name": "stdout",
     "output_type": "stream",
     "text": [
      "4\n",
      "<method-wrapper '__len__' of list object at 0x10d3d8710>\n"
     ]
    }
   ],
   "source": [
    "# we can get a list's length in a functional style\n",
    "print(len(some_list))\n",
    "\n",
    "# which is equivalent to accessing its __len__ attribute\n",
    "print(some_list.__len__)\n",
    "\n",
    "# but since __len__ is a method, we have to call it\n",
    "print(some_list.__len__())"
   ]
  },
  {
   "cell_type": "markdown",
   "metadata": {},
   "source": [
    "If you are more used to functional programming, using an object's methods can be thought of calling a function on an object and passing the object as the first argument."
   ]
  },
  {
   "cell_type": "code",
   "execution_count": 37,
   "metadata": {},
   "outputs": [
    {
     "name": "stdout",
     "output_type": "stream",
     "text": [
      "[1, 2, 3, 4, 5, 5]\n"
     ]
    }
   ],
   "source": [
    "# Rather than thinking about combining lists like\n",
    "# new_list = append(some_list, another_list)\n",
    "\n",
    "# We do\n",
    "some_list.append(5)\n",
    "print(some_list)"
   ]
  },
  {
   "cell_type": "markdown",
   "metadata": {},
   "source": [
    "We will cover object creation in more detail later."
   ]
  },
  {
   "cell_type": "markdown",
   "metadata": {},
   "source": [
    "## Grouped Statements and Control Flow\n",
    "\n",
    "A programming language is pretty useless if every statement is unrelated to other statements. Other languages will group statements using delimiters like `{}`. Python instead uses line breaks and indentation. This results in more readable code. Grouped statements are typically those inside control flow tools like `if` and `while`, though others exist like `with`.\n",
    "\n",
    "`if` is the simplest way to make something conditional. All grouped statements contain an expression and end in a colon. They apply to all the following lines of the same indentation level"
   ]
  },
  {
   "cell_type": "code",
   "execution_count": 39,
   "metadata": {},
   "outputs": [
    {
     "name": "stdout",
     "output_type": "stream",
     "text": [
      "True\n",
      "it is tuesday\n"
     ]
    }
   ],
   "source": [
    "day_of_week = 'tuesday'\n",
    "\n",
    "print(day_of_week == 'tuesday')\n",
    "\n",
    "if day_of_week == 'tuesday':\n",
    "    print(\"it is tuesday\")\n",
    "    \n",
    "# this would throw an error because our indentation is wrong\n",
    "# if day_of_week == 'tuesday':\n",
    "# print('it is tuesday')\n",
    "\n",
    "# this would always print 'it is tuesday', because it is not in the 'if's' indentation level\n",
    "# thus thwarting our conditional statement\n",
    "# if day_of_week == 'tuesday':\n",
    "#     joy = True\n",
    "# print('it is tuesday')"
   ]
  },
  {
   "cell_type": "markdown",
   "metadata": {},
   "source": [
    "`if` statements can be combined with additional conditions: \n",
    "\n",
    "* `elif` - if the first thing is False, check if this one is true\n",
    "* `else` - if everything is False, do this.\n",
    "\n",
    "`elif` must come after `if`, and `else` has to come last."
   ]
  },
  {
   "cell_type": "code",
   "execution_count": 40,
   "metadata": {},
   "outputs": [
    {
     "name": "stdout",
     "output_type": "stream",
     "text": [
      "it is wednesday\n"
     ]
    }
   ],
   "source": [
    "day_of_week = 'wednesday'\n",
    "\n",
    "if day_of_week == 'tuesday':\n",
    "    print('it is tuesday')\n",
    "elif day_of_week == 'wednesday':\n",
    "    print('it is wednesday')\n",
    "else:\n",
    "    print('who knows')"
   ]
  },
  {
   "cell_type": "code",
   "execution_count": null,
   "metadata": {
    "collapsed": true
   },
   "outputs": [],
   "source": []
  }
 ],
 "metadata": {
  "kernelspec": {
   "display_name": "Python 2",
   "language": "python",
   "name": "python2"
  },
  "language_info": {
   "codemirror_mode": {
    "name": "ipython",
    "version": 2
   },
   "file_extension": ".py",
   "mimetype": "text/x-python",
   "name": "python",
   "nbconvert_exporter": "python",
   "pygments_lexer": "ipython2",
   "version": "2.7.14"
  }
 },
 "nbformat": 4,
 "nbformat_minor": 2
}
